{
 "cells": [
  {
   "cell_type": "code",
   "execution_count": 15,
   "metadata": {},
   "outputs": [
    {
     "data": {
      "text/plain": [
       "True"
      ]
     },
     "execution_count": 15,
     "metadata": {},
     "output_type": "execute_result"
    }
   ],
   "source": [
    "import websockets\n",
    "import asyncio\n",
    "import requests\n",
    "import os\n",
    "from dotenv import load_dotenv\n",
    "from datetime import datetime\n",
    "from pydub import AudioSegment\n",
    "from pydub.utils import which\n",
    "from pydub.playback import play\n",
    "import io\n",
    "import json\n",
    "\n",
    "AudioSegment.converter = which(\"ffmpeg\")  # Set ffmpeg path\n",
    "AudioSegment.ffprobe = which(\"ffprobe\") \n",
    "load_dotenv()"
   ]
  },
  {
   "cell_type": "code",
   "execution_count": 8,
   "metadata": {},
   "outputs": [],
   "source": [
    "\n",
    "\n",
    "# send auth post request \n",
    "\n",
    "PLAYHT_API_KEY = os.getenv(\"PLAYHT_API_KEY\")\n",
    "PLAYHT_USER_ID = os.getenv(\"PLAYHT_USER_ID\")\n",
    "\n",
    "def auth():\n",
    "    url = \"https://api.play.ht/api/v4/websocket-auth\"\n",
    "    headers = {\n",
    "        \"Authorization\": \"Bearer \" + PLAYHT_API_KEY,\n",
    "        \"X-User-Id\"    : PLAYHT_USER_ID,\n",
    "        \"Content-Type\" : \"application/json\"\n",
    "        }\n",
    "    \n",
    "    response = requests.post(url, headers=headers)\n",
    "\n",
    "    return response.json()\n",
    "\n",
    "\n",
    "response = auth()"
   ]
  },
  {
   "cell_type": "code",
   "execution_count": null,
   "metadata": {},
   "outputs": [],
   "source": [
    "async def handle_request(text, model):\n",
    "    # takes input text, passes it to tts model, receives audio file over websocket\n",
    "    \n",
    "    global response\n",
    "\n",
    "    expiry_date = datetime.strptime(response[\"expires_at\"], \"%Y-%m-%dT%H:%M:%S.%fZ\")\n",
    "    current_date = datetime.now()\n",
    "    # if time diff is less than an hour, renew token\n",
    "    if (expiry_date - current_date).seconds < 3600:\n",
    "        response = auth()\n",
    "\n",
    "    url = response['websocket_urls'][model]\n",
    "\n",
    "    request = {\n",
    "         \"text\": text, # less than 20k characters\n",
    "         \"voice\": \"s3://voice-cloning-zero-shot/1806c2a9-2c23-4336-93a5-5447b80295e9/original/manifest.json\", #GordonRamsay clone\n",
    "         \"output_format\": \"mp3\",\n",
    "         \"temperature\": \"0.7\",\n",
    "         \"speed\": \"1.0\",\n",
    "    }\n",
    "\n",
    "    audio_chunks = []\n",
    "\n",
    "    async with websockets.connect(url) as websocket:\n",
    "        await websocket.send(json.dumps(request))\n",
    "        while True:\n",
    "            message = await websocket.recv()\n",
    "\n",
    "            if isinstance(message, bytes):\n",
    "                    # Received audio chunk\n",
    "                    audio_chunks.append(message)\n",
    "            else:\n",
    "                # Received a JSON message\n",
    "                data = json.loads(message)\n",
    "\n",
    "                if data.get(\"type\") == \"start\":\n",
    "                    print(f\"Processing started. Request ID: {data.get('request_id')}\")\n",
    "\n",
    "                elif data.get(\"type\") == \"end\":\n",
    "                    print(f\"Processing ended. Request ID: {data.get('request_id')}\")\n",
    "                    break\n",
    "\n",
    "        # Combine received audio chunks\n",
    "        audio_data = b\"\".join(audio_chunks)\n",
    "\n",
    "        # DEBUG: Save raw audio file to check format\n",
    "        with open(\"output_raw.mp3\", \"wb\") as f:\n",
    "            f.write(audio_data)\n",
    "        print(\"Raw audio saved as output_raw.mp3\")\n",
    "\n",
    "        # Convert binary data into an audio segment\n",
    "        audio_segment = AudioSegment.from_file(io.BytesIO(audio_data), format=\"mp3\")\n",
    "\n",
    "        # Save or play the audio\n",
    "        audio_segment.export(\"output.mpeg\", format=\"mp3\")\n",
    "\n",
    "        # Play the audio\n",
    "        play(audio_segment)\n",
    "        print(\"Audio saved as output.mpeg\")\n"
   ]
  },
  {
   "cell_type": "code",
   "execution_count": 46,
   "metadata": {},
   "outputs": [],
   "source": [
    "response['websocket_urls'].keys()\n",
    "model = \"PlayDialog\""
   ]
  },
  {
   "cell_type": "code",
   "execution_count": 48,
   "metadata": {},
   "outputs": [
    {
     "name": "stdout",
     "output_type": "stream",
     "text": [
      "Processing started. Request ID: e2971473-1403-427b-a873-48a422e6dd5f\n",
      "Processing ended. Request ID: e2971473-1403-427b-a873-48a422e6dd5f\n",
      "Raw audio saved as output_raw.mp3\n",
      "Audio saved as output.mpeg\n"
     ]
    }
   ],
   "source": [
    "text = \"\"\"You're such a fucking twat, you should've been aborted.\"\"\"\n",
    "\n",
    "await handle_request(text, model)\n",
    "    "
   ]
  },
  {
   "cell_type": "code",
   "execution_count": null,
   "metadata": {},
   "outputs": [],
   "source": []
  },
  {
   "cell_type": "code",
   "execution_count": null,
   "metadata": {},
   "outputs": [
    {
     "name": "stdout",
     "output_type": "stream",
     "text": [
      "[{\"id\":\"s3://voice-cloning-zero-shot/1806c2a9-2c23-4336-93a5-5447b80295e9/original/manifest.json\",\"name\":\"GordonRamsay\",\"type\":\"instant\",\"gender\":\"male\",\"voice_engine\":\"PlayHT2.0\"}]\n"
     ]
    }
   ],
   "source": [
    "import requests\n",
    "\n",
    "headers = {\n",
    "        \"Authorization\": \"Bearer \" + PLAYHT_API_KEY,\n",
    "        \"X-User-Id\"    : PLAYHT_USER_ID,\n",
    "        \"Content-Type\" : \"application/json\"\n",
    "        }\n",
    "\n",
    "url = \"https://api.play.ht/api/v2/cloned-voices\"\n",
    "\n",
    "\n",
    "\n",
    "response1 = requests.get(url, headers=headers)\n",
    "\n",
    "print(response1.text)"
   ]
  },
  {
   "cell_type": "code",
   "execution_count": null,
   "metadata": {},
   "outputs": [],
   "source": []
  }
 ],
 "metadata": {
  "kernelspec": {
   "display_name": "ml",
   "language": "python",
   "name": "python3"
  },
  "language_info": {
   "codemirror_mode": {
    "name": "ipython",
    "version": 3
   },
   "file_extension": ".py",
   "mimetype": "text/x-python",
   "name": "python",
   "nbconvert_exporter": "python",
   "pygments_lexer": "ipython3",
   "version": "3.10.13"
  }
 },
 "nbformat": 4,
 "nbformat_minor": 2
}

{
 "cells": [
  {
   "cell_type": "code",
   "execution_count": 36,
   "metadata": {},
   "outputs": [
    {
     "data": {
      "text/plain": [
       "True"
      ]
     },
     "execution_count": 36,
     "metadata": {},
     "output_type": "execute_result"
    }
   ],
   "source": [
    "import websockets\n",
    "import asyncio\n",
    "import requests\n",
    "import os\n",
    "from dotenv import load_dotenv\n",
    "from datetime import datetime\n",
    "from pydub import AudioSegment\n",
    "from pydub.utils import which\n",
    "from pydub.playback import play\n",
    "import io\n",
    "import json\n",
    "\n",
    "AudioSegment.converter = which(\"ffmpeg\")  # Set ffmpeg path\n",
    "AudioSegment.ffprobe = which(\"ffprobe\") \n",
    "load_dotenv()"
   ]
  },
  {
   "cell_type": "code",
   "execution_count": 77,
   "metadata": {},
   "outputs": [],
   "source": [
    "\n",
    "\n",
    "# send auth post request \n",
    "\n",
    "PLAYHT_API_KEY = os.getenv(\"PLAYHT_API_KEY\")\n",
    "PLAYHT_USER_ID = os.getenv(\"PLAYHT_USER_ID\")\n",
    "\n",
    "def auth():\n",
    "    url = \"https://api.play.ht/api/v4/websocket-auth\"\n",
    "    headers = {\n",
    "        \"Authorization\": \"Bearer \" + PLAYHT_API_KEY,\n",
    "        \"X-User-Id\"    : PLAYHT_USER_ID,\n",
    "        \"Content-Type\" : \"application/json\"\n",
    "        }\n",
    "    \n",
    "    response = requests.post(url, headers=headers)\n",
    "\n",
    "    return response.json()\n",
    "\n",
    "\n",
    "response = auth()"
   ]
  },
  {
   "cell_type": "code",
   "execution_count": 75,
   "metadata": {},
   "outputs": [],
   "source": [
    "\n",
    "voice_dict = {\n",
    "    \"GordonRamsay\": \"s3://voice-cloning-zero-shot/1806c2a9-2c23-4336-93a5-5447b80295e9/original/manifest.json\",\n",
    "    \"DavidGoggins\": \"s3://voice-cloning-zero-shot/f18bfd62-800f-4c0c-a735-ed379699a0be/davidgoggins/manifest.json\",\n",
    "}\n",
    "\n",
    "async def handle_request(text, model, path, voice=\"DavidGoggins\"):\n",
    "    # takes input text, passes it to tts model, receives audio file over websocket\n",
    "\n",
    "\n",
    "    # if time diff is less than an hour, renew token\n",
    "\n",
    "    url = response['websocket_urls'][model]\n",
    "\n",
    "\n",
    "\n",
    "    request = {\n",
    "         \"text\": text, # less than 20k characters\n",
    "         \"voice\": voice_dict[voice], #GordonRamsay clone\n",
    "         \"output_format\": \"mp3\",\n",
    "         \"temperature\": \"0.7\",\n",
    "         \"speed\": \"1.0\",\n",
    "    }\n",
    "\n",
    "    audio_chunks = []\n",
    "\n",
    "    async with websockets.connect(url) as websocket:\n",
    "        await websocket.send(json.dumps(request))\n",
    "        while True:\n",
    "            message = await websocket.recv()\n",
    "\n",
    "            if isinstance(message, bytes):\n",
    "                    # Received audio chunk\n",
    "                    audio_chunks.append(message)\n",
    "            else:\n",
    "                # Received a JSON message\n",
    "                data = json.loads(message)\n",
    "\n",
    "                if data.get(\"type\") == \"start\":\n",
    "                    print(f\"Processing started. Request ID: {data.get('request_id')}\")\n",
    "                    print(data)\n",
    "\n",
    "                elif data.get(\"type\") == \"end\":\n",
    "                    print(f\"Processing ended. Request ID: {data.get('request_id')}\")\n",
    "                    break\n",
    "\n",
    "        # Combine received audio chunks\n",
    "        audio_data = b\"\".join(audio_chunks)\n",
    "        \n",
    "\n",
    "        # Convert binary data into an audio segment\n",
    "        audio_segment = AudioSegment.from_file(io.BytesIO(audio_data), format=\"mp3\")\n",
    "\n",
    "        # Save or play the audio\n",
    "        audio_segment.export(path, format=\"mp3\")\n",
    "\n",
    "        # Play the audio\n",
    "        # play(audio_segment)"
   ]
  },
  {
   "cell_type": "code",
   "execution_count": 43,
   "metadata": {},
   "outputs": [],
   "source": [
    "response['websocket_urls'].keys()\n",
    "model = \"PlayDialog\""
   ]
  },
  {
   "cell_type": "code",
   "execution_count": 48,
   "metadata": {},
   "outputs": [
    {
     "name": "stdout",
     "output_type": "stream",
     "text": [
      "Processing started. Request ID: e2971473-1403-427b-a873-48a422e6dd5f\n",
      "Processing ended. Request ID: e2971473-1403-427b-a873-48a422e6dd5f\n",
      "Raw audio saved as output_raw.mp3\n",
      "Audio saved as output.mpeg\n"
     ]
    }
   ],
   "source": [
    "text = \"\"\"You're such a fucking twat, you should've been aborted.\"\"\"\n",
    "\n",
    "await handle_request(text, model)\n",
    "    "
   ]
  },
  {
   "cell_type": "code",
   "execution_count": null,
   "metadata": {},
   "outputs": [],
   "source": []
  },
  {
   "cell_type": "code",
   "execution_count": null,
   "metadata": {},
   "outputs": [
    {
     "name": "stdout",
     "output_type": "stream",
     "text": [
      "[{\"id\":\"s3://voice-cloning-zero-shot/1806c2a9-2c23-4336-93a5-5447b80295e9/original/manifest.json\",\"name\":\"GordonRamsay\",\"type\":\"instant\",\"gender\":\"male\",\"voice_engine\":\"PlayHT2.0\"}]\n"
     ]
    }
   ],
   "source": [
    "import requests\n",
    "\n",
    "headers = {\n",
    "        \"Authorization\": \"Bearer \" + PLAYHT_API_KEY,\n",
    "        \"X-User-Id\"    : PLAYHT_USER_ID,\n",
    "        \"Content-Type\" : \"application/json\"\n",
    "        }\n",
    "\n",
    "url = \"https://api.play.ht/api/v2/cloned-voices\"\n",
    "\n",
    "\n",
    "\n",
    "response1 = requests.get(url, headers=headers)\n",
    "\n",
    "print(response1.text)"
   ]
  },
  {
   "cell_type": "code",
   "execution_count": 52,
   "metadata": {},
   "outputs": [],
   "source": [
    "from groq import Groq\n",
    "\n",
    "groq_client = Groq(\n",
    "    api_key=os.getenv(\"GROQ_API\")\n",
    ")\n",
    "\n",
    "personality = \"David Goggins\"\n",
    "\n",
    "RESPONSES = []\n",
    "\n",
    "for i in range(1):\n",
    "    text = \"You are {personality}: a strict, no-nonsense motivator with snark but zero offensive language. Don't say anything. Just give me quotes David Goggins would say if he found someone slacking off on his phone or on social media\"\n",
    "    new_message = {\n",
    "\n",
    "        \"role\": \"user\",\n",
    "        \"content\": f\"{text} Answer in less than 20, give me 20 responses. Again answer less than 20 words. Give them to me in a python list, withou\"\n",
    "        \n",
    "    }\n",
    "\n",
    "\n",
    "    chat_completion = groq_client.chat.completions.create(\n",
    "        messages = [new_message],\n",
    "        model=\"deepseek-r1-distill-llama-70b\"\n",
    "    )\n",
    "\n",
    "    response = chat_completion.choices[0].message.content\n",
    "    deeseek_think = response.split(\"</think>\")[0]\n",
    "    response = response.split(\"</think>\")[1].lstrip().rstrip()\n",
    "    RESPONSES.append(response)\n",
    "\n"
   ]
  },
  {
   "cell_type": "code",
   "execution_count": 54,
   "metadata": {},
   "outputs": [],
   "source": [
    "responses = RESPONSES[0].split(\".\")\n",
    "\n",
    "# for i in range(len(responses)):\n",
    "#     responses[i] = responses[i].lstrip().rstrip()[1:-4]"
   ]
  },
  {
   "cell_type": "code",
   "execution_count": 56,
   "metadata": {},
   "outputs": [
    {
     "name": "stdout",
     "output_type": "stream",
     "text": [
      "```python\n",
      "[\n",
      "    \"You're not grinding, you're just spinning.\",\n",
      "    \"Focus or fail, your choice.\",\n",
      "    \"Stop scrolling, start climbing.\",\n",
      "    \" Discipline equals freedom, remember?\",\n",
      "    \"No excuses, only results.\",\n",
      "    \"Hard work beats talent every time.\",\n",
      "    \"You're wasting time, not improving.\",\n",
      "    \"Comfort kills champions, stay hungry.\",\n",
      "    \"Your phone won't get you to the top.\",\n",
      "    \"Greatness isn't found in likes.\",\n",
      "    \"Stop distracting yourself, start dominating.\",\n",
      "    \"The grind doesn't stop, neither should you.\",\n",
      "    \"No one cares about your excuses.\",\n",
      "    \"Success is earned, not downloaded.\",\n",
      "    \"You're either all in or all out.\",\n",
      "    \"Your future is built, not browsed.\",\n",
      "    \"Stay focused, stay fierce, stay disciplined.\",\n",
      "    \"Stop procrastinating, start producing.\",\n",
      "    \"Hard work is the only shortcut.\",\n",
      "    \"Your potential is wasted on screens.\"\n",
      "]\n",
      "```\n"
     ]
    }
   ],
   "source": [
    "print(RESPONSES[0])"
   ]
  },
  {
   "cell_type": "code",
   "execution_count": 84,
   "metadata": {},
   "outputs": [
    {
     "name": "stdout",
     "output_type": "stream",
     "text": [
      "Processing started. Request ID: 5e7b02e7-f68f-4509-9975-ee59a81149f5\n",
      "{'type': 'start', 'request_id': '5e7b02e7-f68f-4509-9975-ee59a81149f5', 'status': 200, 'headers': {'Date': 'Sun, 09 Feb 2025 10:10:07 GMT', 'Server': 'uvicorn', 'x-play-job-id': 'd9f45dfe-9f07-4b56-8d85-70ca8f717e1b', 'Content-Type': 'audio/mpeg', 'x-fal-runner-hints': '/data/.playht_cache/s3/play-fal/ldm-models/LDMGuidedFT_ReGFT3_HFAB160k_VCMT43k_47000_1.9673_no_optim.gguf-None,/data/.playht_cache/s3/play-fal/ldm-models/v075_g_01560000', 'Transfer-Encoding': 'chunked', 'X-Fal-Served-From': '3558fb42-1b1b-40da-ade5-eb3719080d4f', 'x-fal-request-id': '5e7b02e7-f68f-4509-9975-ee59a81149f5'}}\n",
      "Processing ended. Request ID: 5e7b02e7-f68f-4509-9975-ee59a81149f5\n",
      "Processing started. Request ID: 06e5e044-06bb-4710-8d94-f5a25525a293\n",
      "{'type': 'start', 'request_id': '06e5e044-06bb-4710-8d94-f5a25525a293', 'status': 200, 'headers': {'Date': 'Sun, 09 Feb 2025 10:10:10 GMT', 'Server': 'uvicorn', 'x-play-job-id': 'e4b0c8ed-9eee-4545-beee-fbfff343e75f', 'Content-Type': 'audio/mpeg', 'x-fal-runner-hints': '/data/.playht_cache/s3/play-fal/ldm-models/LDMGuidedFT_ReGFT3_HFAB160k_VCMT43k_47000_1.9673_no_optim.gguf-None,/data/.playht_cache/s3/play-fal/ldm-models/v075_g_01560000', 'Transfer-Encoding': 'chunked', 'X-Fal-Served-From': '3558fb42-1b1b-40da-ade5-eb3719080d4f', 'x-fal-request-id': '06e5e044-06bb-4710-8d94-f5a25525a293'}}\n",
      "Processing ended. Request ID: 06e5e044-06bb-4710-8d94-f5a25525a293\n",
      "Processing started. Request ID: e0eef7d1-4013-45ce-845d-ee8a2ae8aa5f\n",
      "{'type': 'start', 'request_id': 'e0eef7d1-4013-45ce-845d-ee8a2ae8aa5f', 'status': 200, 'headers': {'Date': 'Sun, 09 Feb 2025 10:10:12 GMT', 'Server': 'uvicorn', 'x-play-job-id': '3563729c-05c2-439d-beab-6cb04b17f1f3', 'Content-Type': 'audio/mpeg', 'x-fal-runner-hints': '/data/.playht_cache/s3/play-fal/ldm-models/LDMGuidedFT_ReGFT3_HFAB160k_VCMT43k_47000_1.9673_no_optim.gguf-None,/data/.playht_cache/s3/play-fal/ldm-models/v075_g_01560000', 'Transfer-Encoding': 'chunked', 'X-Fal-Served-From': '3558fb42-1b1b-40da-ade5-eb3719080d4f', 'x-fal-request-id': 'e0eef7d1-4013-45ce-845d-ee8a2ae8aa5f'}}\n",
      "Processing ended. Request ID: e0eef7d1-4013-45ce-845d-ee8a2ae8aa5f\n",
      "Processing started. Request ID: 685e0243-b538-441f-9c06-f1111f0dff02\n",
      "{'type': 'start', 'request_id': '685e0243-b538-441f-9c06-f1111f0dff02', 'status': 200, 'headers': {'Date': 'Sun, 09 Feb 2025 10:10:14 GMT', 'Server': 'uvicorn', 'x-play-job-id': '3319da42-d1ee-47e5-9608-3a422de492cd', 'Content-Type': 'audio/mpeg', 'x-fal-runner-hints': '/data/.playht_cache/s3/play-fal/ldm-models/LDMGuidedFT_ReGFT3_HFAB160k_VCMT43k_47000_1.9673_no_optim.gguf-None,/data/.playht_cache/s3/play-fal/ldm-models/v075_g_01560000', 'Transfer-Encoding': 'chunked', 'X-Fal-Served-From': '793f1eee-09d6-4d1d-8fe8-1b662f4c0704', 'x-fal-request-id': '685e0243-b538-441f-9c06-f1111f0dff02'}}\n",
      "Processing ended. Request ID: 685e0243-b538-441f-9c06-f1111f0dff02\n"
     ]
    }
   ],
   "source": [
    "responses = [\n",
    "    \"You're not grinding, you're just spinning.\",\n",
    "    \"Focus or fail, your choice.\",\n",
    "    \"Stop scrolling, start climbing.\",\n",
    "    \" Discipline equals freedom, remember?\",\n",
    "    \"No excuses, only results.\",\n",
    "    \"Hard work beats talent every time.\",\n",
    "    \"You're wasting time, not improving.\",\n",
    "    \"Comfort kills champions, stay hungry.\",\n",
    "    \"Your phone won't get you to the top.\",\n",
    "    \"Greatness isn't found in likes.\",\n",
    "    \"Stop distracting yourself, start dominating.\",\n",
    "    \"The grind doesn't stop, neither should you.\",\n",
    "    \"No one cares about your excuses.\",\n",
    "    \"Success is earned, not downloaded.\",\n",
    "    \"You're either all in or all out.\",\n",
    "    \"Your future is built, not browsed.\",\n",
    "    \"Stay focused, stay fierce, stay disciplined.\",\n",
    "    \"Stop procrastinating, start producing.\",\n",
    "    \"Hard work is the only shortcut.\",\n",
    "    \"Your potential is wasted on screens.\"\n",
    "]\n",
    "\n",
    "for i in range(16, len(responses)):\n",
    "    await handle_request(responses[i], model, \"./davidGoggins/{}.mp3\".format(i+1))\n"
   ]
  },
  {
   "cell_type": "code",
   "execution_count": 67,
   "metadata": {},
   "outputs": [
    {
     "name": "stdout",
     "output_type": "stream",
     "text": [
      "{'error_message': \"Sample file must be one of the following audio formats: 'audio/aac', 'audio/mpeg', 'audio/ogg', 'audio/wav', 'audio/webm', 'audio/flac', 'audio/midi', 'audio/x-midi', 'audio/mp4', 'audio/x-m4a', 'audio/x-ms-wma', 'audio/vnd.wave', 'audio/amr', 'audio/x-aiff', 'audio/x-wav', 'audio/x-pn-wav', 'audio/x-pn-realaudio', 'audio/x-mpegurl', 'video/mov'. Please refer to https://docs.play.ht/reference/api-create-instant-voice-clone for more info.\", 'error_id': 'INVALID_PARAMETERS'}\n"
     ]
    }
   ],
   "source": [
    "import os\n",
    "import requests\n",
    "from dotenv import load_dotenv\n",
    "\n",
    "# Load environment variables\n",
    "load_dotenv()\n",
    "\n",
    "# Get API credentials\n",
    "PLAYHT_API_KEY = os.getenv(\"PLAYHT_API_KEY\")\n",
    "PLAYHT_USER_ID = os.getenv(\"PLAYHT_USER_ID\")\n",
    "\n",
    "# Ensure credentials are loaded\n",
    "if not PLAYHT_API_KEY or not PLAYHT_USER_ID:\n",
    "    raise ValueError(\"Missing API credentials. Check your .env file.\")\n",
    "\n",
    "# API Endpoint\n",
    "api_url = \"https://api.play.ht/api/v2/cloned-voices/instant/\"\n",
    "\n",
    "# Headers\n",
    "headers = {\n",
    "    \"Authorization\": \"Bearer \" + PLAYHT_API_KEY,\n",
    "    \"X-User-Id\": PLAYHT_USER_ID\n",
    "}\n",
    "\n",
    "# Replace with the actual direct download link from GoFile\n",
    "sample_file_url = \"https://srv-file11.gofile.io/download/XFO5ZB/\"\n",
    "\n",
    "# Request Payload\n",
    "data = {\n",
    "    \"sample_file_url\": sample_file_url,\n",
    "    \"voice_name\": \"DavidGoggins\"\n",
    "}\n",
    "\n",
    "# Send API request (use json= instead of data=)\n",
    "response = requests.post(api_url, headers=headers, json=data)\n",
    "\n",
    "# Print API Response\n",
    "print(response.json())\n"
   ]
  },
  {
   "cell_type": "code",
   "execution_count": 74,
   "metadata": {},
   "outputs": [
    {
     "name": "stdout",
     "output_type": "stream",
     "text": [
      "{'error_message': 'Missing `voice_name`. Please refer to https://docs.play.ht/reference/api-create-instant-voice-clone for more info.', 'error_id': 'INVALID_PARAMETERS'}\n"
     ]
    }
   ],
   "source": [
    "import os\n",
    "import requests\n",
    "from dotenv import load_dotenv\n",
    "\n",
    "# Load environment variables\n",
    "load_dotenv()\n",
    "\n",
    "# Get API credentials\n",
    "PLAYHT_API_KEY = os.getenv(\"PLAYHT_API_KEY\")\n",
    "PLAYHT_USER_ID = os.getenv(\"PLAYHT_USER_ID\")\n",
    "\n",
    "# Ensure credentials are loaded\n",
    "if not PLAYHT_API_KEY or not PLAYHT_USER_ID:\n",
    "    raise ValueError(\"Missing API credentials. Check your .env file.\")\n",
    "\n",
    "# API Endpoint\n",
    "api_url = \"https://api.play.ht/api/v2/cloned-voices/instant/\"\n",
    "\n",
    "# Headers\n",
    "headers = {\n",
    "    \"Authorization\": \"Bearer \" + PLAYHT_API_KEY,\n",
    "    \"X-User-Id\": PLAYHT_USER_ID,\n",
    "    \"content-type\": \"multipart/form-data\",\n",
    "    \"sample_file_url\": sample_file_url,\n",
    "    \"voice_name\": \"DavidGoggins\",\n",
    "}\n",
    "\n",
    "# Replace with the actual direct download link from GoFile\n",
    "sample_file_url = \"https://drive.google.com/uc?export=download&id=1b6R7tU1J9PSf1DJMN3IvpUXx_G-J6JT1\"\n",
    "\n",
    "# Request Payload\n",
    "data = {\n",
    "    \"sample_file_url\": sample_file_url,\n",
    "    \"voice_name\": \"DavidGoggins\"\n",
    "}\n",
    "\n",
    "# Send API request (use json= instead of data=)\n",
    "response = requests.post(api_url, headers=headers, json=data)\n",
    "\n",
    "# Print API Response\n",
    "print(response.json())\n"
   ]
  },
  {
   "cell_type": "code",
   "execution_count": null,
   "metadata": {},
   "outputs": [],
   "source": [
    "curl --request POST \\\n",
    "     --url https://api.play.ht/api/v2/cloned-voices/instant \\\n",
    "     --header 'accept: application/json' \\\n",
    "     --header 'content-type: multipart/form-data'"
   ]
  },
  {
   "cell_type": "code",
   "execution_count": null,
   "metadata": {},
   "outputs": [],
   "source": []
  }
 ],
 "metadata": {
  "kernelspec": {
   "display_name": "ml",
   "language": "python",
   "name": "python3"
  },
  "language_info": {
   "codemirror_mode": {
    "name": "ipython",
    "version": 3
   },
   "file_extension": ".py",
   "mimetype": "text/x-python",
   "name": "python",
   "nbconvert_exporter": "python",
   "pygments_lexer": "ipython3",
   "version": "3.10.13"
  }
 },
 "nbformat": 4,
 "nbformat_minor": 2
}
